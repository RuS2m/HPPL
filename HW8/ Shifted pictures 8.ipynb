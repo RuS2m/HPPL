{
 "cells": [
  {
   "cell_type": "markdown",
   "id": "3a1594b5",
   "metadata": {},
   "source": [
    "# Homework 8: Shifted pictures\n",
    "by Rustam Guseyn-zade ([link canvas](https://skoltech.instructure.com/courses/3546/users/9673))"
   ]
  },
  {
   "cell_type": "markdown",
   "id": "641f0003",
   "metadata": {},
   "source": [
    "## Table of contents\n",
    "* [MPI shifted pictures](#MPI-shifted-pictures)\n",
    "* [Speedup vs Number of processors](#Speedup-vs-Number-of-processors)\n",
    "* [Memory consumption vs Number of processors](#Memory-consumption-vs-Number-of-processors)"
   ]
  },
  {
   "cell_type": "code",
   "execution_count": 1,
   "id": "74bde890",
   "metadata": {},
   "outputs": [],
   "source": [
    "#import needed libraries\n",
    "import cv2\n",
    "import glob\n",
    "import numpy as np\n",
    "import math\n",
    "import matplotlib.pyplot as plt\n",
    "import matplotlib.animation as animation\n",
    "import matplotlib.cm as cm\n",
    "import os\n",
    "from PIL import Image\n",
    "import random\n",
    "import time\n",
    "import tracemalloc"
   ]
  },
  {
   "cell_type": "markdown",
   "id": "79bf1152",
   "metadata": {},
   "source": [
    "## MPI shifted pictures"
   ]
  },
  {
   "cell_type": "markdown",
   "id": "f54a4f5f",
   "metadata": {},
   "source": [
    "### Written in non-mpi"
   ]
  },
  {
   "cell_type": "code",
   "execution_count": 2,
   "id": "c79e8e3b",
   "metadata": {},
   "outputs": [
    {
     "name": "stdout",
     "output_type": "stream",
     "text": [
      "shifted pictures gif could be found in file shifted_minecraft.gif\n"
     ]
    }
   ],
   "source": [
    "img = cv2.imread('minecraft.jpg')\n",
    "height = img.shape[0]\n",
    "\n",
    "image = img.copy()\n",
    "number_of_splits = 4\n",
    "split = np.array_split(image, number_of_splits, axis=0)\n",
    "new_split = split.copy()\n",
    "\n",
    "for roll in range(height):\n",
    "    for i in range(len(split)):\n",
    "        new_split[i] = np.roll(split[i], 1, axis=0)\n",
    "    buffer = new_split[0][0]\n",
    "    for i in range(1, len(split)):\n",
    "        new_buf = new_split[i][0].copy()\n",
    "        new_split[i] = new_split[i]\n",
    "        new_split[i][0] = buffer\n",
    "        buffer = new_buf\n",
    "    new_split[0][0] = buffer\n",
    "    cv2.imwrite('sminecraft' + '{0:05}'.format(roll) + '.jpg', np.concatenate(new_split))\n",
    "    split = new_split\n",
    "    print(\"[%-50s] %d%%\" % ('='* int(roll * 50 / (height-1)) , int(roll * 100 / (height-1))), end='\\r')\n",
    "\n",
    "fp_in = \"sminecraft*.jpg\"\n",
    "fp_out = \"shifted_minecraft.gif\"\n",
    "\n",
    "img, *imgs = [Image.open(f) for f in sorted(glob.glob(fp_in))]\n",
    "img.save(fp=fp_out, format='GIF', append_images=imgs, save_all=True, duration=30, loop=0)\n",
    "    \n",
    "for filePath in sorted(glob.glob(fp_in)):\n",
    "    try:\n",
    "        os.remove(filePath)\n",
    "    except:\n",
    "        print(\"Error while deleting file : \", filePath)\n",
    "print(f\"shifted pictures gif could be found in file {fp_out}\")"
   ]
  },
  {
   "cell_type": "markdown",
   "id": "019a5dc0",
   "metadata": {},
   "source": [
    "### Written in mpi"
   ]
  },
  {
   "cell_type": "code",
   "execution_count": 3,
   "id": "9e77c64a",
   "metadata": {},
   "outputs": [
    {
     "name": "stdout",
     "output_type": "stream",
     "text": [
      "Overwriting shifted.py\n"
     ]
    }
   ],
   "source": [
    "%%writefile shifted.py\n",
    "# Create file shifted.py\n",
    "import cv2\n",
    "import glob\n",
    "import numpy as np\n",
    "import math\n",
    "import matplotlib.pyplot as plt\n",
    "import matplotlib.animation as animation\n",
    "import matplotlib.cm as cm\n",
    "from mpi4py import MPI\n",
    "import os\n",
    "from PIL import Image\n",
    "import random\n",
    "\n",
    "comm = MPI.COMM_WORLD\n",
    "size = comm.Get_size()\n",
    "rank = comm.Get_rank()\n",
    "\n",
    "img = cv2.imread('minecraft.jpg')\n",
    "height = img.shape[0]\n",
    "\n",
    "for roll in range(height):\n",
    "    if rank == 0 and roll == 0:\n",
    "        img = cv2.imread('minecraft.jpg')\n",
    "        image = img.copy()\n",
    "        split = np.array_split(image, size, axis=0)\n",
    "    if rank != 0:\n",
    "        split = None\n",
    "\n",
    "    split_part = comm.scatter(split, root=0)\n",
    "    split_part = np.roll(split_part, 1, axis=0)\n",
    "    \n",
    "    if size != 1:\n",
    "        it_to_send = rank+1 if rank != size-1 else 0\n",
    "        it_to_recv = rank-1 if rank != 0 else size-1\n",
    "        comm.send(split_part[0], dest=it_to_send)\n",
    "        split_part_first = comm.recv(source=it_to_recv)\n",
    "        split_part[0] = split_part_first\n",
    "    \n",
    "    new_split = comm.gather(split_part,root=0)\n",
    "    \n",
    "    if rank == 0:\n",
    "        print(\"[%-50s] %d%%\" % ('='* int(roll * 50 / (height-1)) , int(roll * 100 / (height-1))), end='\\r')\n",
    "        cv2.imwrite('sminecraft' + '{0:05}'.format(roll) + '.jpg', np.concatenate(new_split))\n",
    "        split = new_split.copy()\n",
    "\n",
    "if rank == 0:\n",
    "    fp_in = \"sminecraft*.jpg\"\n",
    "    fp_out = \"shifted_minecraft.gif\"\n",
    "\n",
    "    img, *imgs = [Image.open(f) for f in sorted(glob.glob(fp_in))]\n",
    "    img.save(fp=fp_out, format='GIF', append_images=imgs, save_all=True, duration=30, loop=0)\n",
    "    \n",
    "    for filePath in sorted(glob.glob(fp_in)):\n",
    "        try:\n",
    "            os.remove(filePath)\n",
    "        except:\n",
    "            print(\"Error while deleting file : \", filePath)\n",
    "    print(f\"shifted pictures gif could be found in file {fp_out}\")"
   ]
  },
  {
   "cell_type": "code",
   "execution_count": 4,
   "id": "fd4977a3",
   "metadata": {},
   "outputs": [
    {
     "name": "stdout",
     "output_type": "stream",
     "text": [
      "shifted pictures gif could be found in file shifted_minecraft.gif\n"
     ]
    }
   ],
   "source": [
    "!mpirun --allow-run-as-root -np 2 python3 shifted.py"
   ]
  },
  {
   "cell_type": "markdown",
   "id": "7761ef6b",
   "metadata": {},
   "source": [
    "file `shifted_minefraft.gif` was too big, so I compressed it via `zip` command. But also it would be easier to run locally script, it takes below 1 minute to execute"
   ]
  },
  {
   "cell_type": "markdown",
   "id": "3f8caa2e",
   "metadata": {},
   "source": [
    "## Speedup vs Number of processors"
   ]
  },
  {
   "cell_type": "code",
   "execution_count": 5,
   "id": "6922f5c7",
   "metadata": {},
   "outputs": [
    {
     "name": "stdout",
     "output_type": "stream",
     "text": [
      "measure attempt 3 from 3 for 4 processes\r"
     ]
    },
    {
     "data": {
      "text/plain": [
       "Text(0.5, 1.0, 'Shifted pictures speedup')"
      ]
     },
     "execution_count": 5,
     "metadata": {},
     "output_type": "execute_result"
    },
    {
     "data": {
      "image/png": "[encoded data removed]",
      "text/plain": [
       "<Figure size 432x288 with 1 Axes>"
      ]
     },
     "metadata": {
      "needs_background": "light"
     },
     "output_type": "display_data"
    }
   ],
   "source": [
    "def measure_n_processes_time(processes_number, attempts=3):\n",
    "    number_processes_time = []\n",
    "    for i in range(attempts):\n",
    "        start = time.time()\n",
    "        !mpirun --allow-run-as-root -n {processes_number} python3 shifted.py >/dev/null 2>&1\n",
    "        end = time.time()\n",
    "        number_processes_time.append(end - start)\n",
    "        print(f'measure attempt {i+1} from {attempts} for {processes_number} processes', end='\\r')\n",
    "    return sum(number_processes_time) / attempts\n",
    "\n",
    "processes_times = [measure_n_processes_time(i) for i in range(1,5)]\n",
    "speedups = [processes_times[0] / processes_times[i] for i in range(len(processes_times))]\n",
    "plt.plot(range(1, 5), speedups)\n",
    "plt.ylabel('Speedup')\n",
    "plt.xlabel('Number of Processes')\n",
    "plt.title('Shifted pictures speedup')"
   ]
  },
  {
   "cell_type": "markdown",
   "id": "4c996990",
   "metadata": {},
   "source": [
    "## Memory consumption vs Number of processors"
   ]
  },
  {
   "cell_type": "code",
   "execution_count": 6,
   "id": "828c44ba",
   "metadata": {},
   "outputs": [
    {
     "name": "stdout",
     "output_type": "stream",
     "text": [
      "measure attempt 3 from 3 for 4 processes\r"
     ]
    },
    {
     "data": {
      "text/plain": [
       "Text(0.5, 1.0, 'Shifted pictures memory consumption')"
      ]
     },
     "execution_count": 6,
     "metadata": {},
     "output_type": "execute_result"
    },
    {
     "data": {
      "image/png": "[encoded data removed]",
      "text/plain": [
       "<Figure size 432x288 with 1 Axes>"
      ]
     },
     "metadata": {
      "needs_background": "light"
     },
     "output_type": "display_data"
    }
   ],
   "source": [
    "def measure_n_processes_memory(processes_number, attempts=3):\n",
    "    number_processes_memory = []\n",
    "    for i in range(attempts):\n",
    "        tracemalloc.start()\n",
    "        !mpirun --allow-run-as-root -n {processes_number} python3 shifted.py >/dev/null 2>&1\n",
    "        number_processes_memory.append(tracemalloc.get_traced_memory()[1])\n",
    "        tracemalloc.stop()\n",
    "        print(f'measure attempt {i+1} from {attempts} for {processes_number} processes', end='\\r')\n",
    "    return sum(number_processes_memory) / attempts\n",
    "\n",
    "processes_memories = [measure_n_processes_memory(i) for i in range(1,5)]\n",
    "memories = [processes_memories[0] / processes_memories[i] for i in range(len(processes_memories))]\n",
    "plt.plot(range(1, 5), memories)\n",
    "plt.ylabel('Memory used')\n",
    "plt.xlabel('Number of Processes')\n",
    "plt.title('Shifted pictures memory consumption')"
   ]
  }
 ],
 "metadata": {
  "kernelspec": {
   "display_name": "Python 3 (ipykernel)",
   "language": "python",
   "name": "python3"
  },
  "language_info": {
   "codemirror_mode": {
    "name": "ipython",
    "version": 3
   },
   "file_extension": ".py",
   "mimetype": "text/x-python",
   "name": "python",
   "nbconvert_exporter": "python",
   "pygments_lexer": "ipython3",
   "version": "3.9.7"
  }
 },
 "nbformat": 4,
 "nbformat_minor": 5
}
