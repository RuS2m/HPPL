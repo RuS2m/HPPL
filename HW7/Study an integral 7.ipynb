{
 "cells": [
  {
   "cell_type": "markdown",
   "id": "13839dc0",
   "metadata": {},
   "source": [
    "# Homework 7: Study an integral \n",
    "by Rustam Guseyn-zade ([link canvas](https://skoltech.instructure.com/courses/3546/users/9673))"
   ]
  },
  {
   "cell_type": "markdown",
   "id": "2de6eafe",
   "metadata": {},
   "source": [
    "## Table of contents\n",
    "* [Computing integral analytically](#Computing-integral-analytically)\n",
    "* [Computing integral with trapesoidal rule](#Computing-integral-with-trapesoidal-rule)\n",
    "* [Parallelize integral computation](#Parallelize-integral-computation)\n",
    "* [Speedup vs Number of processors](#Speedup-vs-Number-of-processors)"
   ]
  },
  {
   "cell_type": "code",
   "execution_count": 1,
   "id": "7a1afa45",
   "metadata": {},
   "outputs": [],
   "source": [
    "# import needed libraries\n",
    "import numpy as np\n",
    "import math\n",
    "import matplotlib.pyplot as plt\n",
    "import time"
   ]
  },
  {
   "cell_type": "markdown",
   "id": "4dfd18da",
   "metadata": {},
   "source": [
    "## Computing integral analytically"
   ]
  },
  {
   "cell_type": "markdown",
   "id": "ab370ebc",
   "metadata": {},
   "source": [
    "From the calculus course we know, that:\n",
    "\n",
    "$\\displaystyle{\\int_{-3}^1 (3x^2 - 2.5 x + 1)} = \\big(x^3 - \\frac{5x^2}{4} + x\\big) \\,\\bigg|_{-3}^1 = (1 - \\frac{5}{4} + 1) - (-27 - \\frac{45}{4} -3) = 32 + \\frac{40}{4} = 42$"
   ]
  },
  {
   "cell_type": "markdown",
   "id": "974f9a9f",
   "metadata": {},
   "source": [
    "## Computing integral with trapesoidal rule"
   ]
  },
  {
   "cell_type": "code",
   "execution_count": 2,
   "id": "3129dcfc",
   "metadata": {},
   "outputs": [],
   "source": [
    "def integral(fun, a, b, iterations=1000):\n",
    "    delta = (b - a) / iterations\n",
    "    approx = fun(a) / 2.\n",
    "    fun_arg = a\n",
    "    for _ in range(iterations-1):\n",
    "        fun_arg += delta\n",
    "        approx += fun(fun_arg)\n",
    "    approx += fun(b) / 2.\n",
    "    return approx * delta"
   ]
  },
  {
   "cell_type": "code",
   "execution_count": 3,
   "id": "242014da",
   "metadata": {},
   "outputs": [
    {
     "data": {
      "text/plain": [
       "42.00003199999995"
      ]
     },
     "execution_count": 3,
     "metadata": {},
     "output_type": "execute_result"
    }
   ],
   "source": [
    "integral(lambda x: 3*x**2 - 2.5*x +1, -3, 1)"
   ]
  },
  {
   "cell_type": "markdown",
   "id": "cc3245c3",
   "metadata": {},
   "source": [
    "## Parallelize integral computation"
   ]
  },
  {
   "cell_type": "code",
   "execution_count": 4,
   "id": "5e6f3571",
   "metadata": {},
   "outputs": [
    {
     "name": "stdout",
     "output_type": "stream",
     "text": [
      "Overwriting integral.py\n"
     ]
    }
   ],
   "source": [
    "%%writefile integral.py\n",
    "# Create file integral.py\n",
    "import math\n",
    "import matplotlib.pyplot as plt\n",
    "from mpi4py import MPI\n",
    "import numpy as np\n",
    "\n",
    "comm = MPI.COMM_WORLD\n",
    "size = comm.Get_size()\n",
    "rank = comm.Get_rank()\n",
    "\n",
    "fun = lambda x: 3*x**2 - 2.5*x + 1\n",
    "a = -3\n",
    "b = 1\n",
    "iterations = 10000000\n",
    "\n",
    "delta = (b - a) / iterations\n",
    "chunk_size = (iterations)//size + 1\n",
    "chunk_head = chunk_size * rank\n",
    "chunk_tail = chunk_size * (rank + 1)\n",
    "if chunk_tail > iterations:\n",
    "    chunk_tail = iterations\n",
    "\n",
    "fun_approx = 0\n",
    "for i in range(chunk_head,chunk_tail):\n",
    "    fun_approx += fun(a+delta*i)\n",
    "\n",
    "fun_approx = comm.reduce(fun_approx, op = MPI.SUM, root = 0)\n",
    "\n",
    "if rank == 0:\n",
    "    fun_approx += fun(a) / 2. + fun(b) / 2.\n",
    "    print(f\"{fun_approx*delta}\")"
   ]
  },
  {
   "cell_type": "code",
   "execution_count": 5,
   "id": "4fe28ba7",
   "metadata": {},
   "outputs": [
    {
     "name": "stdout",
     "output_type": "stream",
     "text": [
      "42.00001419999871\r\n"
     ]
    }
   ],
   "source": [
    "!mpirun --allow-run-as-root -np 3 python3 integral.py"
   ]
  },
  {
   "cell_type": "markdown",
   "id": "93bc589f",
   "metadata": {},
   "source": [
    "## Speedup vs Number of processors"
   ]
  },
  {
   "cell_type": "code",
   "execution_count": 6,
   "id": "a66c504f",
   "metadata": {},
   "outputs": [
    {
     "name": "stdout",
     "output_type": "stream",
     "text": [
      "measure attempt 10 from 10 for 4 processes\r"
     ]
    },
    {
     "data": {
      "text/plain": [
       "Text(0.5, 1.0, 'Integral evaluation speedup')"
      ]
     },
     "execution_count": 6,
     "metadata": {},
     "output_type": "execute_result"
    },
    {
     "data": {
      "image/png": "[encoded data removed]",
      "text/plain": [
       "<Figure size 432x288 with 1 Axes>"
      ]
     },
     "metadata": {
      "needs_background": "light"
     },
     "output_type": "display_data"
    }
   ],
   "source": [
    "def measure_n_processes_time(processes_number, attempts=10):\n",
    "    number_processes_time = []\n",
    "    for i in range(attempts):\n",
    "        start = time.time()\n",
    "        !mpirun --allow-run-as-root -n {processes_number} python3 integral.py >/dev/null 2>&1\n",
    "        end = time.time()\n",
    "        number_processes_time.append(end - start)\n",
    "        print(f'measure attempt {i+1} from {attempts} for {processes_number} processes', end='\\r')\n",
    "    return sum(number_processes_time) / attempts\n",
    "\n",
    "processes_times = [measure_n_processes_time(i) for i in range(1,5)]\n",
    "speedups = [processes_times[0] / processes_times[i] for i in range(len(processes_times))]\n",
    "plt.plot(range(1, 5), speedups)\n",
    "plt.ylabel('Speedup')\n",
    "plt.xlabel('Number of Processes')\n",
    "plt.title('Integral evaluation speedup')"
   ]
  },
  {
   "cell_type": "markdown",
   "id": "1f0a479d",
   "metadata": {},
   "source": [
    "## Integration error vs Discretization size"
   ]
  },
  {
   "cell_type": "code",
   "execution_count": 7,
   "id": "58eafde4",
   "metadata": {},
   "outputs": [
    {
     "data": {
      "text/plain": [
       "Text(0.5, 1.0, 'Errors changes based on discretization size')"
      ]
     },
     "execution_count": 7,
     "metadata": {},
     "output_type": "execute_result"
    },
    {
     "data": {
      "image/png": "[encoded data removed]",
      "text/plain": [
       "<Figure size 432x288 with 1 Axes>"
      ]
     },
     "metadata": {
      "needs_background": "light"
     },
     "output_type": "display_data"
    }
   ],
   "source": [
    "sizes = np.linspace(10, 100000, 50)\n",
    "errors = [abs(42. - integral(lambda x: 3*x**2 - 2.5*x +1, -3, 1, int(size))) for size in sizes]\n",
    "plt.plot(sizes.astype(int), errors)\n",
    "plt.ylabel('Integration Error')\n",
    "plt.xlabel('Discretization size')\n",
    "plt.title('Errors changes based on discretization size')"
   ]
  }
 ],
 "metadata": {
  "kernelspec": {
   "display_name": "Python 3 (ipykernel)",
   "language": "python",
   "name": "python3"
  },
  "language_info": {
   "codemirror_mode": {
    "name": "ipython",
    "version": 3
   },
   "file_extension": ".py",
   "mimetype": "text/x-python",
   "name": "python",
   "nbconvert_exporter": "python",
   "pygments_lexer": "ipython3",
   "version": "3.9.7"
  }
 },
 "nbformat": 4,
 "nbformat_minor": 5
}
