{
 "cells": [
  {
   "cell_type": "markdown",
   "id": "cd92e330",
   "metadata": {},
   "source": [
    "# Homework 6: Parallel Spectrogram\n",
    "by Rustam Guseyn-zade ([link canvas](https://skoltech.instructure.com/courses/3546/users/9673))"
   ]
  },
  {
   "cell_type": "markdown",
   "id": "e36a123a",
   "metadata": {},
   "source": [
    "## Table of contents\n",
    "* [Spectrogram in parallel](#Spectogram-in-parallel)\n",
    "* [Timings](#Timings)"
   ]
  },
  {
   "cell_type": "code",
   "execution_count": 1,
   "id": "531e82b9",
   "metadata": {},
   "outputs": [],
   "source": [
    "# import needed libraries\n",
    "import numpy as np\n",
    "import math\n",
    "import matplotlib.pyplot as plt\n",
    "import time"
   ]
  },
  {
   "cell_type": "markdown",
   "id": "85666ced",
   "metadata": {},
   "source": [
    "## Spectogram in parallel"
   ]
  },
  {
   "cell_type": "code",
   "execution_count": 2,
   "id": "bfcdb018",
   "metadata": {},
   "outputs": [
    {
     "name": "stdout",
     "output_type": "stream",
     "text": [
      "Overwriting spectrogram.py\n"
     ]
    }
   ],
   "source": [
    "%%writefile spectrogram.py\n",
    "# Create file spectrogram.py\n",
    "import math\n",
    "import matplotlib.pyplot as plt\n",
    "from mpi4py import MPI\n",
    "import numpy as np\n",
    "\n",
    "comm = MPI.COMM_WORLD\n",
    "size = comm.Get_size()\n",
    "rank = comm.Get_rank()\n",
    "\n",
    "steps_in_t = 3**9+6\n",
    "t = np.linspace(-20*2*math.pi, 20*2*math.pi, steps_in_t)\n",
    "y=np.sin(t)*np.exp(-t**2/2/20**2)\n",
    "y=y+np.sin(3*t)*np.exp(-(t-5*2*math.pi)**2/2/20**2)\n",
    "y=y+np.sin(5.5*t)*np.exp(-(t-10*2*math.pi)**2/2/5**2)\n",
    "y=y+np.sin(4*t)*np.exp(-(t-7*2*math.pi)**2/2/5**2)\n",
    "    \n",
    "nwindowsteps = 10000\n",
    "window_positions= np.linspace(-20*2*math.pi, 20*2*math.pi, nwindowsteps)\n",
    "window_width = 2.0*2*math.pi\n",
    "\n",
    "chunk_size = len(window_positions)//size + 1\n",
    "chunk_head = chunk_size * rank\n",
    "chunk_tail = chunk_size * (rank + 1)\n",
    "if chunk_tail > len(window_positions):\n",
    "    chunk_tail = len(window_positions)\n",
    "\n",
    "specgram = np.empty([len(t), chunk_tail-chunk_head])\n",
    "for i, w in enumerate(window_positions[chunk_head:chunk_tail]):\n",
    "    window_funtion = np.exp(-(t-w)**2/2/window_width**2)\n",
    "    y_window = y * window_funtion\n",
    "    specgram[:,i] = abs(np.fft.fft(y_window))\n",
    "\n",
    "print(f\"process {rank}: from {chunk_head} to {chunk_tail}\")\n",
    "  \n",
    "all_specgram_patched = comm.gather((chunk_head, specgram),root=0)\n",
    "\n",
    "if rank == 0:\n",
    "    print(f\"all shape: {specgram.shape}\")\n",
    "    for specgram_patch in sorted(all_specgram_patched)[1:]:\n",
    "        specgram = np.concatenate((specgram, specgram_patch[1]), axis=1)\n",
    "    \n",
    "    fig, ax = plt.subplots()\n",
    "    ax.set_ylim(0, 10)\n",
    "    w=np.fft.fftfreq(len(y), d=(t[1]-t[0])/2/math.pi)\n",
    "    im = ax.imshow(specgram, aspect='auto', origin='lower', extent=[min(t)/2/math.pi, max(t)/2/math.pi, y[0], 2 * w[int(len(w)/2)-1]])\n",
    "    fig.set_size_inches(9, 7, forward=True)\n",
    "    fig.colorbar(im, ax=ax)\n",
    "    ax.set_xlabel('Time, cycles')\n",
    "    ax.set_ylabel('Frequency')\n",
    "    ax.title.set_text('Spectrogram')\n",
    "#     plt.show()\n",
    "    plt.savefig('spectrogram.png')"
   ]
  },
  {
   "cell_type": "code",
   "execution_count": 3,
   "id": "569ec35c",
   "metadata": {},
   "outputs": [
    {
     "name": "stdout",
     "output_type": "stream",
     "text": [
      "process 1: from 3334 to 6668\n",
      "process 2: from 6668 to 10000\n",
      "process 0: from 0 to 3334\n",
      "all shape: (19689, 3334)\n"
     ]
    }
   ],
   "source": [
    "!mpirun --allow-run-as-root -np 3 python3 spectrogram.py"
   ]
  },
  {
   "cell_type": "markdown",
   "id": "6f54e7fc",
   "metadata": {},
   "source": [
    "Resulting plot could be found on `spectrogram.png` file"
   ]
  },
  {
   "cell_type": "markdown",
   "id": "420fc24d",
   "metadata": {},
   "source": [
    "## Timings"
   ]
  },
  {
   "cell_type": "code",
   "execution_count": 4,
   "id": "bf1a6ac1",
   "metadata": {},
   "outputs": [
    {
     "name": "stdout",
     "output_type": "stream",
     "text": [
      "measure attempt 10 from 10 for 4 processes\r"
     ]
    },
    {
     "data": {
      "text/plain": [
       "Text(0.5, 1.0, 'Spectrogram mpi speedup')"
      ]
     },
     "execution_count": 4,
     "metadata": {},
     "output_type": "execute_result"
    },
    {
     "data": {
      "image/png": "[encoded data removed]",
      "text/plain": [
       "<Figure size 432x288 with 1 Axes>"
      ]
     },
     "metadata": {
      "needs_background": "light"
     },
     "output_type": "display_data"
    }
   ],
   "source": [
    "def measure_n_processes_time(processes_number, attempts=10):\n",
    "    number_processes_time = []\n",
    "    for i in range(attempts):\n",
    "        start = time.time()\n",
    "        !mpirun --allow-run-as-root -n {processes_number} python3 spectrogram.py >/dev/null 2>&1\n",
    "        end = time.time()\n",
    "        number_processes_time.append(end - start)\n",
    "        print(f'measure attempt {i+1} from {attempts} for {processes_number} processes', end='\\r')\n",
    "    return sum(number_processes_time) / attempts\n",
    "\n",
    "processes_times = [measure_n_processes_time(i) for i in range(1,5)]\n",
    "speedups = [processes_times[0] / processes_times[i] for i in range(len(processes_times))]\n",
    "plt.plot(range(1, 5), speedups)\n",
    "plt.ylabel('Speedup')\n",
    "plt.xlabel('Number of Processes')\n",
    "plt.title('Spectrogram mpi speedup')"
   ]
  }
 ],
 "metadata": {
  "kernelspec": {
   "display_name": "Python 3 (ipykernel)",
   "language": "python",
   "name": "python3"
  },
  "language_info": {
   "codemirror_mode": {
    "name": "ipython",
    "version": 3
   },
   "file_extension": ".py",
   "mimetype": "text/x-python",
   "name": "python",
   "nbconvert_exporter": "python",
   "pygments_lexer": "ipython3",
   "version": "3.9.7"
  }
 },
 "nbformat": 4,
 "nbformat_minor": 5
}
