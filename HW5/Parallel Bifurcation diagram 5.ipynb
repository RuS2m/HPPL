{
 "cells": [
  {
   "cell_type": "markdown",
   "id": "c54872fe",
   "metadata": {},
   "source": [
    "# Homework 5: Parallel Bifurcation diagram\n",
    "by Rustam Guseyn-zade ([link canvas](https://skoltech.instructure.com/courses/3546/users/9673))"
   ]
  },
  {
   "cell_type": "markdown",
   "id": "be96507f",
   "metadata": {},
   "source": [
    "## Table of contents\n",
    "* [Bifurcation map in parallel](#Bifurcation-map-in-parallel)\n",
    "* [Timings](#Timings)"
   ]
  },
  {
   "cell_type": "code",
   "execution_count": 1,
   "id": "a643ec07",
   "metadata": {},
   "outputs": [],
   "source": [
    "# import needed libraries\n",
    "import numpy as np\n",
    "import matplotlib.pyplot as plt\n",
    "import matplotlib.animation as animation\n",
    "import mpi4py\n",
    "import time"
   ]
  },
  {
   "cell_type": "markdown",
   "id": "4e87a947",
   "metadata": {},
   "source": [
    "## Bifurcation map in parallel"
   ]
  },
  {
   "cell_type": "code",
   "execution_count": 2,
   "id": "090a355d",
   "metadata": {},
   "outputs": [
    {
     "name": "stdout",
     "output_type": "stream",
     "text": [
      "Overwriting bifurcation.py\n"
     ]
    }
   ],
   "source": [
    "%%writefile bifurcation.py\n",
    "# Create file bifurcation.py\n",
    "import matplotlib.pyplot as plt\n",
    "from mpi4py import MPI\n",
    "import numpy as np\n",
    "\n",
    "\n",
    "comm = MPI.COMM_WORLD\n",
    "size = comm.Get_size()\n",
    "rank = comm.Get_rank()\n",
    "\n",
    "xs_amount = 100000\n",
    "r = np.linspace(0, 4.0, num=xs_amount)\n",
    "\n",
    "chunk_size = xs_amount//size + 1\n",
    "chunk_head = chunk_size * rank\n",
    "chunk_tail = chunk_size * (rank + 1)\n",
    "if chunk_tail > xs_amount:\n",
    "    chunk_tail = xs_amount\n",
    "    \n",
    "x = np.random.rand((chunk_tail-chunk_head))\n",
    "for i in range(1, 10000):\n",
    "    inverted_x = 1 - x\n",
    "    updated_x = np.multiply(x,r[chunk_head:chunk_tail])\n",
    "    updated_x = np.multiply(updated_x, inverted_x)\n",
    "    x = updated_x\n",
    "print(f\"process {rank}: from {chunk_head} to {chunk_tail}\")\n",
    "  \n",
    "all_x_patched = comm.gather((chunk_head, x),root=0)\n",
    "\n",
    "if rank == 0:\n",
    "    all_x = []\n",
    "    for x_patch in sorted(all_x_patched):\n",
    "        all_x = np.append(all_x, x_patch[1])\n",
    "    plt.figure(figsize=(12, 8))\n",
    "    plt.title(r'Logistic map: $x_{n+1} = r x_{n} (1-x_{n}).$ ')\n",
    "    plt.ylabel('x')\n",
    "    plt.xlabel('r')\n",
    "    plt.scatter(r, all_x, s=0.1)\n",
    "    plt.show()\n",
    "    plt.savefig('bifurcation.png')"
   ]
  },
  {
   "cell_type": "code",
   "execution_count": 3,
   "id": "95c65455",
   "metadata": {},
   "outputs": [
    {
     "name": "stdout",
     "output_type": "stream",
     "text": [
      "process 2: from 66668 to 100000\n",
      "process 1: from 33334 to 66668\n",
      "process 0: from 0 to 33334\n",
      "Figure(1200x800)\n"
     ]
    }
   ],
   "source": [
    "!mpirun --allow-run-as-root -np 3 python3 bifurcation.py"
   ]
  },
  {
   "cell_type": "markdown",
   "id": "293ad276",
   "metadata": {},
   "source": [
    "Resulting plot could be found on `bifurcation.png` file"
   ]
  },
  {
   "cell_type": "markdown",
   "id": "56499fd4",
   "metadata": {},
   "source": [
    "## Timings"
   ]
  },
  {
   "cell_type": "code",
   "execution_count": 4,
   "id": "53c77cd9",
   "metadata": {},
   "outputs": [
    {
     "name": "stdout",
     "output_type": "stream",
     "text": [
      "measure attempt 50 from 50 for 4 processes\r"
     ]
    },
    {
     "data": {
      "text/plain": [
       "Text(0.5, 1.0, 'Bifurcation map mpi speedup')"
      ]
     },
     "execution_count": 4,
     "metadata": {},
     "output_type": "execute_result"
    },
    {
     "data": {
      "image/png": "[encoded data removed]",
      "text/plain": [
       "<Figure size 432x288 with 1 Axes>"
      ]
     },
     "metadata": {
      "needs_background": "light"
     },
     "output_type": "display_data"
    }
   ],
   "source": [
    "def measure_n_processes_time(processes_number, attempts=50):\n",
    "    number_processes_time = []\n",
    "    for i in range(attempts):\n",
    "        start = time.time()\n",
    "        !mpirun --allow-run-as-root -n {processes_number} python3 bifurcation.py >/dev/null 2>&1\n",
    "        end = time.time()\n",
    "        number_processes_time.append(end - start)\n",
    "        print(f'measure attempt {i+1} from {attempts} for {processes_number} processes', end='\\r')\n",
    "    return sum(number_processes_time) / attempts\n",
    "\n",
    "processes_times = [measure_n_processes_time(i) for i in range(1,5)]\n",
    "speedups = [processes_times[0] / processes_times[i] for i in range(len(processes_times))]\n",
    "plt.plot(range(1, 5), speedups)\n",
    "plt.ylabel('Speedup')\n",
    "plt.xlabel('Number of Processes')\n",
    "plt.title('Bifurcation map mpi speedup')"
   ]
  }
 ],
 "metadata": {
  "kernelspec": {
   "display_name": "Python 3 (ipykernel)",
   "language": "python",
   "name": "python3"
  },
  "language_info": {
   "codemirror_mode": {
    "name": "ipython",
    "version": 3
   },
   "file_extension": ".py",
   "mimetype": "text/x-python",
   "name": "python",
   "nbconvert_exporter": "python",
   "pygments_lexer": "ipython3",
   "version": "3.9.7"
  }
 },
 "nbformat": 4,
 "nbformat_minor": 5
}
