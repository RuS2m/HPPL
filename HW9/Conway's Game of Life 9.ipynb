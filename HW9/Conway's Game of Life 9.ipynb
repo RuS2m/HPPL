{
 "cells": [
  {
   "cell_type": "markdown",
   "id": "17a11f5f",
   "metadata": {},
   "source": [
    "# Homework 9: Conway's Game of Life \n",
    "by Rustam Guseyn-zade ([link canvas](https://skoltech.instructure.com/courses/3546/users/9673))"
   ]
  },
  {
   "cell_type": "markdown",
   "id": "e885c845",
   "metadata": {},
   "source": [
    "## Table of contents\n",
    "* [The Game of Life sequentially](#The-Game-of-Life-sequentially)\n",
    "* [The Game of Life parallel](#The-Game-of-Life-parallel)\n",
    "* [Gosper's glider gun](#Gosper's-glider-gun)\n",
    "* [Number of the living cells vs time](#Number-of-the-living-cells-vs-time)"
   ]
  },
  {
   "cell_type": "code",
   "execution_count": 1,
   "id": "fec473c6",
   "metadata": {},
   "outputs": [],
   "source": [
    "#import needed libraries\n",
    "import cv2\n",
    "import glob\n",
    "import numpy as np\n",
    "import math\n",
    "import matplotlib.pyplot as plt\n",
    "import matplotlib.animation as animation\n",
    "import matplotlib.cm as cm\n",
    "import os\n",
    "from PIL import Image\n",
    "import random\n",
    "import time\n",
    "import tracemalloc"
   ]
  },
  {
   "cell_type": "markdown",
   "id": "5dddc317",
   "metadata": {},
   "source": [
    "## The Game of Life sequentially"
   ]
  },
  {
   "cell_type": "code",
   "execution_count": 76,
   "id": "b02157c7",
   "metadata": {},
   "outputs": [],
   "source": [
    "def initialize(pixels):\n",
    "    indices = [[1, 1],\n",
    "            [2, 2], [2, 25],\n",
    "            [3, 13], [3, 14], [3, 21], [3, 22], [3, 35], [3, 36],\n",
    "            [4, 12], [4, 16], [4, 21], [4, 22], [4, 35], [4, 36],\n",
    "            [5, 1], [5, 2], [5, 11], [5, 17], [5, 21], [5, 22],\n",
    "            [6, 1], [6, 2], [6, 11], [6, 17], [6, 18], [6, 23],\n",
    "            [7, 11], [7, 17], [7, 25],\n",
    "            [8, 12], [8, 16],\n",
    "            [9, 13], [9, 14]]\n",
    "    \n",
    "    for i in indices:\n",
    "        pixels[i[0]][i[1]] = 1\n",
    "\n",
    "    return pixels"
   ]
  },
  {
   "cell_type": "code",
   "execution_count": 77,
   "id": "a4fe0de7",
   "metadata": {},
   "outputs": [],
   "source": [
    "def game_of_life(pixels, steps_limit = 100, filename='life'):\n",
    "    step = 0\n",
    "    number_of_alive = []\n",
    "    height = pixels.shape[0]\n",
    "    width = pixels.shape[1]\n",
    "    while sum(sum(pixels)) != 0 and step != steps_limit:\n",
    "        new_pixels = pixels.copy()\n",
    "        for i in range(height):\n",
    "            for j in range(width):\n",
    "                total = int((pixels[i, (j-1) % width] + pixels[i, (j+1) % width] +\n",
    "                             pixels[(i-1) % height, j] + pixels[(i+1) % height, j] +\n",
    "                             pixels[(i-1) % height, (j-1) % width] + pixels[(i-1) % height, (j+1) % width] +\n",
    "                             pixels[(i+1) % height, (j-1) % width] + pixels[(i+1) % height, (j+1) % width]))\n",
    " \n",
    "                if pixels[i, j] == 1:\n",
    "                    if (total < 2) or (total > 3):\n",
    "                        new_pixels[i, j] = 0\n",
    "                else:\n",
    "                    if total == 3:\n",
    "                        new_pixels[i, j] = 1\n",
    "        \n",
    "        number_of_alive.append(sum(sum(pixels)))\n",
    "        pixels = new_pixels\n",
    "        if filename is not None:\n",
    "            plt.imshow(pixels, cmap='gray')\n",
    "            plt.savefig('map_' + '{0:08}'.format(step) + '.png')\n",
    "        print(f\"survived for {step+1}\", end=\"\\r\")\n",
    "        step+=1\n",
    "\n",
    "    fp_in = \"map_*.png\"\n",
    "    \n",
    "    if filename is not None:\n",
    "        fp_out = f\"{filename}.gif\"\n",
    "        img, *imgs = [Image.open(f) for f in sorted(glob.glob(fp_in))]\n",
    "        img.save(fp=fp_out, format='GIF', append_images=imgs, save_all=True, duration=100, loop=0)\n",
    "    \n",
    "    for filePath in sorted(glob.glob(fp_in)):\n",
    "        try:\n",
    "            os.remove(filePath)\n",
    "        except:\n",
    "            print(\"Error while deleting file : \", filePath)\n",
    "    if filename is not None:\n",
    "        print(f\"Animation saved in file {fp_out}\")\n",
    "    return number_of_alive"
   ]
  },
  {
   "cell_type": "code",
   "execution_count": 79,
   "id": "ad1a797e",
   "metadata": {},
   "outputs": [
    {
     "name": "stdout",
     "output_type": "stream",
     "text": [
      "Animation saved in file life.gif\n"
     ]
    },
    {
     "data": {
      "image/png": "[encoded data removed]",
      "text/plain": [
       "<Figure size 432x288 with 1 Axes>"
      ]
     },
     "metadata": {
      "needs_background": "light"
     },
     "output_type": "display_data"
    }
   ],
   "source": [
    "pixels = np.zeros([45, 45])\n",
    "\n",
    "initialize(pixels)\n",
    "_ = game_of_life(pixels)"
   ]
  },
  {
   "cell_type": "code",
   "execution_count": 93,
   "id": "4c507ac7",
   "metadata": {},
   "outputs": [
    {
     "data": {
      "text/plain": [
       "array([[1., 0., 0., 0., 4.],\n",
       "       [2., 0., 0., 0., 5.],\n",
       "       [3., 0., 0., 0., 6.]])"
      ]
     },
     "execution_count": 93,
     "metadata": {},
     "output_type": "execute_result"
    }
   ],
   "source": [
    "a = np.array([1, 2, 3])\n",
    "b = np.zeros([3, 3])\n",
    "c = np.array([4, 5, 6])\n",
    "b = np.concatenate((np.array([a]).T, b), axis=1)\n",
    "np.concatenate((b, np.array([c]).T), axis=1)"
   ]
  },
  {
   "cell_type": "markdown",
   "id": "cbdbac12",
   "metadata": {},
   "source": [
    "## The Game of Life parallel"
   ]
  },
  {
   "cell_type": "code",
   "execution_count": 101,
   "id": "d203f9c8",
   "metadata": {},
   "outputs": [
    {
     "name": "stdout",
     "output_type": "stream",
     "text": [
      "Overwriting life.py\n"
     ]
    }
   ],
   "source": [
    "%%writefile life.py\n",
    "# Create file life.py\n",
    "import matplotlib.pyplot as plt\n",
    "from mpi4py import MPI\n",
    "import numpy as np\n",
    "\n",
    "def initialize(pixels):\n",
    "    indices = [[1, 1],\n",
    "            [2, 2], [2, 25],\n",
    "            [3, 13], [3, 14], [3, 21], [3, 22], [3, 35], [3, 36],\n",
    "            [4, 12], [4, 16], [4, 21], [4, 22], [4, 35], [4, 36],\n",
    "            [5, 1], [5, 2], [5, 11], [5, 17], [5, 21], [5, 22],\n",
    "            [6, 1], [6, 2], [6, 11], [6, 17], [6, 18], [6, 23],\n",
    "            [7, 11], [7, 17], [7, 25],\n",
    "            [8, 12], [8, 16],\n",
    "            [9, 13], [9, 14]]\n",
    "    \n",
    "    for i in indices:\n",
    "        pixels[i[0]][i[1]] = 1\n",
    "\n",
    "    return pixels\n",
    "\n",
    "comm = MPI.COMM_WORLD\n",
    "size = comm.Get_size()\n",
    "rank = comm.Get_rank()\n",
    "\n",
    "pixels = np.zeros([45, 45])\n",
    "initialize(pixels)\n",
    "\n",
    "chunk_size = 45//size + 1\n",
    "chunk_head = chunk_size * rank\n",
    "chunk_tail = chunk_size * (rank + 1)\n",
    "if chunk_tail > 45:\n",
    "    chunk_tail = 45\n",
    "\n",
    "pixels_cur = pixels[:,chunk_head:chunk_tail]\n",
    "step = 0\n",
    "height = pixels_cur.shape[0]\n",
    "width = pixels_cur.shape[1]\n",
    "\n",
    "if size != 1:\n",
    "        it_to_sendr = rank+1 if rank != size-1 else 0\n",
    "        it_to_sendl = rank-1 if rank != 0 else size-1\n",
    "        comm.send(pixels_cur[:,0], dest=it_to_sendl)\n",
    "        comm.send(pixels_cur[:,width-1], dest=it_to_sendr)\n",
    "        left_ghost = comm.recv(source=it_to_sendl)\n",
    "        right_ghost = comm.recv(source=it_to_sendr)\n",
    "        pixels_cur = np.concatenate((np.array([left_ghost]).T, pixels_cur), axis=1)\n",
    "        pixels_cur = np.concatenate((pixels_cur, np.array([right_ghost]).T), axis=1)\n",
    "\n",
    "height = pixels_cur.shape[0]\n",
    "width = pixels_cur.shape[1]\n",
    "        \n",
    "step = 0\n",
    "while sum(sum(pixels_cur)) != 0 and step != 100:\n",
    "    new_pixels = pixels_cur.copy()\n",
    "    for i in range(height):\n",
    "        for j in range(width):\n",
    "            total = int((pixels[i, (j-1) % width] + pixels[i, (j+1) % width] +\n",
    "                             pixels[(i-1) % height, j] + pixels[(i+1) % height, j] +\n",
    "                             pixels[(i-1) % height, (j-1) % width] + pixels[(i-1) % height, (j+1) % width] +\n",
    "                             pixels[(i+1) % height, (j-1) % width] + pixels[(i+1) % height, (j+1) % width]))\n",
    " \n",
    "            if pixels[i, j] == 1:\n",
    "                if (total < 2) or (total > 3):\n",
    "                    new_pixels[i, j] = 0\n",
    "            else:\n",
    "                if total == 3:\n",
    "                    new_pixels[i, j] = 1\n",
    "    pixels_cur = new_pixels\n",
    "    step += 1\n",
    "    if rank == 0:\n",
    "        print(f\"step {step}\", end='\\r')"
   ]
  },
  {
   "cell_type": "code",
   "execution_count": 102,
   "id": "842fbc55",
   "metadata": {},
   "outputs": [
    {
     "name": "stdout",
     "output_type": "stream",
     "text": [
      "step 100\r"
     ]
    }
   ],
   "source": [
    "!mpirun --allow-run-as-root -np 2 python3 life.py"
   ]
  },
  {
   "cell_type": "markdown",
   "id": "fa0a9601",
   "metadata": {},
   "source": [
    "## Gosper's glider gun"
   ]
  },
  {
   "cell_type": "code",
   "execution_count": 62,
   "id": "be001558",
   "metadata": {},
   "outputs": [
    {
     "name": "stdout",
     "output_type": "stream",
     "text": [
      "Animation saved in file gilder_gun.gif\n"
     ]
    },
    {
     "data": {
      "image/png": "[encoded data removed]",
      "text/plain": [
       "<Figure size 432x288 with 1 Axes>"
      ]
     },
     "metadata": {
      "needs_background": "light"
     },
     "output_type": "display_data"
    }
   ],
   "source": [
    "glider_gun =\\\n",
    "np.array([\n",
    " [0,0,0,0,0,0,0,0,0,0,0,0,0,0,0,0,0,0,0,0,0,0,0,0,0,0,0,0,0,0,0,0,0,0,0,0],\n",
    " [0,0,0,0,0,0,0,0,0,0,0,0,0,0,0,0,0,0,0,0,0,0,0,0,0,0,0,0,0,0,0,0,0,0,0,0],\n",
    " [0,0,0,0,0,0,0,0,0,0,0,0,0,0,0,0,0,0,0,0,0,0,0,0,0,0,0,0,0,0,0,0,0,0,0,0],\n",
    " [0,0,0,0,0,0,0,0,0,0,0,0,0,0,0,0,0,0,0,0,0,0,0,0,0,0,0,0,0,0,0,0,0,0,0,0],\n",
    " [0,0,0,0,0,0,0,0,0,0,0,0,0,0,0,0,0,0,0,0,0,0,0,0,0,0,0,0,0,0,0,0,0,0,0,0],\n",
    " [0,0,0,0,0,0,0,0,0,0,0,0,0,0,0,0,0,0,0,0,0,0,0,0,0,0,0,0,0,0,0,0,0,0,0,0],\n",
    " [0,0,0,0,0,0,0,0,0,0,0,0,0,0,0,0,0,0,0,0,0,0,0,0,0,0,0,0,0,0,0,0,0,0,0,0],\n",
    " [0,0,0,0,0,0,0,0,0,0,0,0,0,0,0,0,0,0,0,0,0,0,0,0,0,0,0,0,0,0,0,0,0,0,0,0],\n",
    " [0,0,0,0,0,0,0,0,0,0,0,0,0,0,0,0,0,0,0,0,0,0,0,0,0,0,0,0,0,0,0,0,0,0,0,0],\n",
    " [0,0,0,0,0,0,0,0,0,0,0,0,0,0,0,0,0,0,0,0,0,0,0,0,0,0,0,0,0,0,0,0,0,0,0,0],\n",
    " [0,0,0,0,0,0,0,0,0,0,0,0,0,0,0,0,0,0,0,0,0,0,0,0,0,0,0,0,0,0,0,0,0,0,0,0],\n",
    " [0,0,0,0,0,0,0,0,0,0,0,0,0,0,0,0,0,0,0,0,0,0,0,0,0,0,0,0,0,0,0,0,0,0,0,0],\n",
    " [0,0,0,0,0,0,0,0,0,0,0,0,0,0,0,0,0,0,0,0,0,0,0,0,1,0,0,0,0,0,0,0,0,0,0,0],\n",
    " [0,0,0,0,0,0,0,0,0,0,0,0,0,0,0,0,0,0,0,0,0,0,1,0,1,0,0,0,0,0,0,0,0,0,0,0],\n",
    " [0,0,0,0,0,0,0,0,0,0,0,0,1,1,0,0,0,0,0,0,1,1,0,0,0,0,0,0,0,0,0,0,0,0,1,1],\n",
    " [0,0,0,0,0,0,0,0,0,0,0,1,0,0,0,1,0,0,0,0,1,1,0,0,0,0,0,0,0,0,0,0,0,0,1,1],\n",
    " [1,1,0,0,0,0,0,0,0,0,1,0,0,0,0,0,1,0,0,0,1,1,0,0,0,0,0,0,0,0,0,0,0,0,0,0],\n",
    " [1,1,0,0,0,0,0,0,0,0,1,0,0,0,1,0,1,1,0,0,0,0,1,0,1,0,0,0,0,0,0,0,0,0,0,0],\n",
    " [0,0,0,0,0,0,0,0,0,0,1,0,0,0,0,0,1,0,0,0,0,0,0,0,1,0,0,0,0,0,0,0,0,0,0,0],\n",
    " [0,0,0,0,0,0,0,0,0,0,0,1,0,0,0,1,0,0,0,0,0,0,0,0,0,0,0,0,0,0,0,0,0,0,0,0],\n",
    " [0,0,0,0,0,0,0,0,0,0,0,0,1,1,0,0,0,0,0,0,0,0,0,0,0,0,0,0,0,0,0,0,0,0,0,0],\n",
    " [0,0,0,0,0,0,0,0,0,0,0,0,0,0,0,0,0,0,0,0,0,0,0,0,0,0,0,0,0,0,0,0,0,0,0,0],\n",
    " [0,0,0,0,0,0,0,0,0,0,0,0,0,0,0,0,0,0,0,0,0,0,0,0,0,0,0,0,0,0,0,0,0,0,0,0],\n",
    " [0,0,0,0,0,0,0,0,0,0,0,0,0,0,0,0,0,0,0,0,0,0,0,0,0,0,0,0,0,0,0,0,0,0,0,0],\n",
    " [0,0,0,0,0,0,0,0,0,0,0,0,0,0,0,0,0,0,0,0,0,0,0,0,0,0,0,0,0,0,0,0,0,0,0,0],\n",
    " [0,0,0,0,0,0,0,0,0,0,0,0,0,0,0,0,0,0,0,0,0,0,0,0,0,0,0,0,0,0,0,0,0,0,0,0],\n",
    " [0,0,0,0,0,0,0,0,0,0,0,0,0,0,0,0,0,0,0,0,0,0,0,0,0,0,0,0,0,0,0,0,0,0,0,0],\n",
    " [0,0,0,0,0,0,0,0,0,0,0,0,0,0,0,0,0,0,0,0,0,0,0,0,0,0,0,0,0,0,0,0,0,0,0,0],\n",
    " [0,0,0,0,0,0,0,0,0,0,0,0,0,0,0,0,0,0,0,0,0,0,0,0,0,0,0,0,0,0,0,0,0,0,0,0],\n",
    " [0,0,0,0,0,0,0,0,0,0,0,0,0,0,0,0,0,0,0,0,0,0,0,0,0,0,0,0,0,0,0,0,0,0,0,0],\n",
    " [0,0,0,0,0,0,0,0,0,0,0,0,0,0,0,0,0,0,0,0,0,0,0,0,0,0,0,0,0,0,0,0,0,0,0,0]\n",
    "])\n",
    "\n",
    "_ = game_of_life(glider_gun, 100, 'gilder_gun')"
   ]
  },
  {
   "cell_type": "markdown",
   "id": "43f2d0c1",
   "metadata": {},
   "source": [
    "## Number of the living cells vs time"
   ]
  },
  {
   "cell_type": "code",
   "execution_count": 74,
   "id": "831f89bb",
   "metadata": {},
   "outputs": [
    {
     "name": "stdout",
     "output_type": "stream",
     "text": [
      "survived for 1000\r"
     ]
    },
    {
     "data": {
      "text/plain": [
       "Text(0.5, 1.0, 'Evolution of cells')"
      ]
     },
     "execution_count": 74,
     "metadata": {},
     "output_type": "execute_result"
    },
    {
     "data": {
      "image/png": "[encoded data removed]",
      "text/plain": [
       "<Figure size 1080x1080 with 1 Axes>"
      ]
     },
     "metadata": {
      "needs_background": "light"
     },
     "output_type": "display_data"
    }
   ],
   "source": [
    "glider_gun_with_two_conditions =\\\n",
    "np.array([\n",
    " [0,0,0,0,0,0,0,0,0,0,0,0,0,0,0,0,0,0,0,0,0,0,0,0,0,0,0,0,0,0,0,0,0,0,0,0],\n",
    " [0,0,0,0,0,0,0,0,0,0,0,0,0,0,0,0,0,0,0,0,0,0,0,0,0,0,0,0,0,0,0,0,0,0,0,0],\n",
    " [0,0,0,0,0,0,1,0,0,0,0,0,0,0,0,0,0,0,0,0,0,0,0,0,0,0,0,0,0,0,0,0,0,0,0,0],\n",
    " [0,0,0,0,0,0,0,1,0,0,0,0,0,0,0,0,0,0,0,0,0,0,0,0,0,0,0,0,0,0,0,0,0,0,0,0],\n",
    " [0,0,0,0,0,1,1,1,0,0,0,0,0,0,0,0,0,0,0,0,0,0,0,0,0,0,0,0,0,0,0,0,0,0,0,0],\n",
    " [0,0,0,0,0,0,0,0,0,0,0,0,0,0,0,0,0,0,0,1,0,0,0,0,0,0,0,0,0,0,0,0,0,0,0,0],\n",
    " [0,0,0,0,0,0,0,0,0,0,0,0,0,0,0,0,0,0,0,0,1,0,0,0,0,0,0,0,0,0,0,0,0,0,0,0],\n",
    " [0,0,0,0,0,0,0,0,0,0,0,0,0,0,0,0,0,0,1,1,1,0,0,0,0,0,0,0,0,0,0,0,0,0,0,0],\n",
    " [0,0,0,0,0,0,0,0,0,0,0,0,0,0,0,0,0,0,0,0,0,0,0,0,0,0,0,0,0,0,0,0,0,0,0,0],\n",
    " [0,0,0,0,0,0,0,0,0,0,0,0,0,0,0,0,0,0,0,0,0,0,0,0,0,0,0,0,0,0,0,0,0,0,0,0],\n",
    " [0,0,0,0,0,0,0,0,0,0,0,0,0,0,0,0,0,0,0,0,0,0,0,0,0,0,0,0,0,0,0,0,0,0,0,0],\n",
    " [0,0,0,0,0,0,0,0,0,0,0,0,0,0,0,0,0,0,0,0,0,0,0,0,0,0,0,0,0,0,0,0,0,0,0,0],\n",
    " [0,0,0,0,0,0,0,0,0,0,0,0,0,0,0,0,0,0,0,0,0,0,0,0,1,0,0,0,0,0,0,0,0,0,0,0],\n",
    " [0,0,0,0,0,0,0,0,0,0,0,0,0,0,0,0,0,0,0,0,0,0,1,0,1,0,0,0,0,0,0,0,0,0,0,0],\n",
    " [0,0,0,0,0,0,0,0,0,0,0,0,1,1,0,0,0,0,0,0,1,1,0,0,0,0,0,0,0,0,0,0,0,0,1,1],\n",
    " [0,0,0,0,0,0,0,0,0,0,0,1,0,0,0,1,0,0,0,0,1,1,0,0,0,0,0,0,0,0,0,0,0,0,1,1],\n",
    " [1,1,0,0,0,0,0,0,0,0,1,0,0,0,0,0,1,0,0,0,1,1,0,0,0,0,0,0,0,0,0,0,0,0,0,0],\n",
    " [1,1,0,0,0,0,0,0,0,0,1,0,0,0,1,0,1,1,0,0,0,0,1,0,1,0,0,0,0,0,0,0,0,0,0,0],\n",
    " [0,0,0,0,0,0,0,0,0,0,1,0,0,0,0,0,1,0,0,0,0,0,0,0,1,0,0,0,0,0,0,0,0,0,0,0],\n",
    " [0,0,0,0,0,0,0,0,0,0,0,1,0,0,0,1,0,0,0,0,0,0,0,0,0,0,0,0,0,0,0,0,0,0,0,0],\n",
    " [0,0,0,0,0,0,0,0,0,0,0,0,1,1,0,0,0,0,0,0,0,0,0,0,0,0,0,0,0,0,0,0,0,0,0,0],\n",
    " [0,0,0,0,0,0,0,0,0,0,0,0,0,0,0,0,0,0,0,0,0,0,0,0,0,0,0,0,0,0,0,0,0,0,0,0],\n",
    " [0,0,0,0,0,0,0,0,0,0,0,0,0,0,0,0,0,0,0,0,0,0,0,0,0,0,0,0,0,0,0,0,0,0,0,0],\n",
    " [0,0,0,0,0,0,0,0,0,0,0,0,0,0,0,0,0,0,0,0,0,0,0,0,0,0,0,0,0,0,0,0,0,0,0,0],\n",
    " [0,0,0,0,0,0,0,0,0,0,0,0,0,0,0,0,0,0,0,0,0,0,0,0,0,0,0,0,0,0,0,0,0,0,0,0],\n",
    " [0,0,0,0,0,0,0,0,0,0,0,0,0,0,0,0,0,0,0,0,0,0,0,0,0,0,0,0,0,0,0,0,0,0,0,0],\n",
    " [0,0,0,0,0,0,0,0,0,0,0,0,0,0,0,0,0,0,0,0,0,0,0,0,0,0,0,0,0,0,0,0,0,0,0,0],\n",
    " [0,0,0,0,0,0,0,0,0,0,0,0,0,0,0,0,0,0,0,0,0,0,0,0,0,0,0,0,0,0,0,0,0,0,0,0],\n",
    " [0,0,0,0,0,0,0,0,0,0,0,0,0,0,0,0,0,0,0,0,0,0,0,0,0,0,0,0,0,0,0,0,0,0,0,0],\n",
    " [0,0,0,0,0,0,0,0,0,0,0,0,0,0,0,0,0,0,0,0,0,0,0,0,0,0,0,0,0,0,0,0,0,0,0,0],\n",
    " [0,0,0,0,0,0,0,0,0,0,0,0,0,0,0,0,0,0,0,0,0,0,0,0,0,0,0,0,0,0,0,0,0,0,0,0]\n",
    "])\n",
    "\n",
    "alife = game_of_life(glider_gun_with_two_conditions, 1000, None)\n",
    "fig, ax = plt.subplots(figsize=(15, 15))\n",
    "ax.plot(alife)\n",
    "plt.ylabel('Number of cells alive')\n",
    "plt.xlabel('Time')\n",
    "plt.title('Evolution of cells')"
   ]
  }
 ],
 "metadata": {
  "kernelspec": {
   "display_name": "Python 3 (ipykernel)",
   "language": "python",
   "name": "python3"
  },
  "language_info": {
   "codemirror_mode": {
    "name": "ipython",
    "version": 3
   },
   "file_extension": ".py",
   "mimetype": "text/x-python",
   "name": "python",
   "nbconvert_exporter": "python",
   "pygments_lexer": "ipython3",
   "version": "3.9.7"
  }
 },
 "nbformat": 4,
 "nbformat_minor": 5
}
